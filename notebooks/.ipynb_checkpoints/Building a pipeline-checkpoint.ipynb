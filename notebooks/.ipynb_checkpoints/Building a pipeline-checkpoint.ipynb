{
 "cells": [
  {
   "cell_type": "code",
   "execution_count": 15,
   "id": "ce46a17d",
   "metadata": {},
   "outputs": [],
   "source": [
    "#Import Relevant Libraries\n",
    "from sklearn import set_config; \n",
    "set_config(display='diagram')\n",
    "\n",
    "#Pipeline\n",
    "from sklearn.pipeline import Pipeline\n",
    "\n",
    "#Pre-processing\n",
    "from sklearn.preprocessing import OneHotEncoder, StandardScaler\n",
    "from sklearn.compose import ColumnTransformer\n",
    "from TaxiFareModel.encoders import TimeFeaturesEncoder, DistanceTransformer\n",
    "\n",
    "#Estimators\n",
    "from sklearn.linear_model import LinearRegression\n",
    "from sklearn.neighbors import KNeighborsRegressor\n",
    "from sklearn.svm import SVR\n",
    "from sklearn.ensemble import AdaBoostRegressor\n",
    "\n",
    "#Grid Search\n",
    "from sklearn.model_selection import GridSearchCV"
   ]
  },
  {
   "cell_type": "code",
   "execution_count": 16,
   "id": "434a060d",
   "metadata": {},
   "outputs": [],
   "source": [
    "estimators = {\n",
    "        \"Linear Regression\" : LinearRegression(),\n",
    "        \"KNN\" : KNeighborsRegressor(),\n",
    "        \"SVR\" : SVR(),\n",
    "        \"Adaboost\" : AdaBoostRegressor()\n",
    "    }"
   ]
  },
  {
   "cell_type": "code",
   "execution_count": null,
   "id": "9b97e53d",
   "metadata": {},
   "outputs": [],
   "source": [
    " hyperparameters = {\n",
    "\n",
    "        \"KNN\" : {\"estimator__n_neighbors\" : [2, 5, 10],\n",
    "                     \"estimator__weights\" : [\"uniform\", \"distance\"],\n",
    "                   \"estimator__leaf_size\" : [15, 30, 45]\n",
    "                   },\n",
    "\n",
    "        \"SVR\" : {\"estimator__kernel\" : [\"linear\", \"poly\", \"rbf\"],\n",
    "                      \"estimator__C\" : [0.01, 0.1, 0.5, 1]\n",
    "                 },\n",
    "        \"Adaboost\" : {\"estimator__learning_rate\" : [1, 5, 10],\n",
    "                      \"estimator__loss\" : [\"linear\", \"square\", \"exponential\"]}\n",
    "    }"
   ]
  },
  {
   "cell_type": "code",
   "execution_count": 20,
   "id": "1c22f682",
   "metadata": {},
   "outputs": [
    {
     "data": {
      "text/plain": [
       "dict_keys(['memory', 'steps', 'verbose', 'preproc', 'estimator', 'preproc__n_jobs', 'preproc__remainder', 'preproc__sparse_threshold', 'preproc__transformer_weights', 'preproc__transformers', 'preproc__verbose', 'preproc__distance', 'preproc__time', 'preproc__distance__memory', 'preproc__distance__steps', 'preproc__distance__verbose', 'preproc__distance__dist_trans', 'preproc__distance__stdscaler', 'preproc__distance__dist_trans__end_lat', 'preproc__distance__dist_trans__end_lon', 'preproc__distance__dist_trans__start_lat', 'preproc__distance__dist_trans__start_lon', 'preproc__distance__stdscaler__copy', 'preproc__distance__stdscaler__with_mean', 'preproc__distance__stdscaler__with_std', 'preproc__time__memory', 'preproc__time__steps', 'preproc__time__verbose', 'preproc__time__time_enc', 'preproc__time__ohe', 'preproc__time__time_enc__time_column', 'preproc__time__time_enc__time_zone_name', 'preproc__time__ohe__categories', 'preproc__time__ohe__drop', 'preproc__time__ohe__dtype', 'preproc__time__ohe__handle_unknown', 'preproc__time__ohe__sparse', 'estimator__algorithm', 'estimator__leaf_size', 'estimator__metric', 'estimator__metric_params', 'estimator__n_jobs', 'estimator__n_neighbors', 'estimator__p', 'estimator__weights'])"
      ]
     },
     "execution_count": 20,
     "metadata": {},
     "output_type": "execute_result"
    }
   ],
   "source": [
    "#defines the pipeline as a class attribute\n",
    "dist_pipe = Pipeline([\n",
    "            ('dist_trans', DistanceTransformer()),\n",
    "            ('stdscaler', StandardScaler())\n",
    "        ])\n",
    "\n",
    "time_pipe = Pipeline([\n",
    "            ('time_enc', TimeFeaturesEncoder('pickup_datetime')),\n",
    "            ('ohe', OneHotEncoder(handle_unknown='ignore'))\n",
    "        ])\n",
    "        \n",
    "preproc_pipe = ColumnTransformer([\n",
    "            ('distance', dist_pipe, [\n",
    "                \"pickup_latitude\",\n",
    "                \"pickup_longitude\",\n",
    "                'dropoff_latitude',\n",
    "                'dropoff_longitude'\n",
    "            ]),\n",
    "            ('time', time_pipe, ['pickup_datetime'])\n",
    "        ], remainder=\"drop\")\n",
    "\n",
    "pipeline = Pipeline([\n",
    "            ('preproc', preproc_pipe),\n",
    "            ('estimator', estimators[\"KNN\"])\n",
    "        ])\n",
    "\n",
    "# pipeline.get_params().keys()\n",
    "\n",
    "grid_search = GridSearchCV(\n",
    "                    pipeline,\n",
    "                    param_grid = hyperparameters[\"KNN\"],\n",
    "                    cv = 5,\n",
    "                    scoring = \"neg_mean_squared_error\")\n",
    "\n",
    "grid_search = best_estimator_"
   ]
  },
  {
   "cell_type": "code",
   "execution_count": null,
   "id": "a80c32d9",
   "metadata": {},
   "outputs": [],
   "source": []
  }
 ],
 "metadata": {
  "kernelspec": {
   "display_name": "Python 3 (ipykernel)",
   "language": "python",
   "name": "python3"
  },
  "language_info": {
   "codemirror_mode": {
    "name": "ipython",
    "version": 3
   },
   "file_extension": ".py",
   "mimetype": "text/x-python",
   "name": "python",
   "nbconvert_exporter": "python",
   "pygments_lexer": "ipython3",
   "version": "3.8.6"
  },
  "toc": {
   "base_numbering": 1,
   "nav_menu": {},
   "number_sections": true,
   "sideBar": true,
   "skip_h1_title": false,
   "title_cell": "Table of Contents",
   "title_sidebar": "Contents",
   "toc_cell": false,
   "toc_position": {},
   "toc_section_display": true,
   "toc_window_display": false
  }
 },
 "nbformat": 4,
 "nbformat_minor": 5
}
